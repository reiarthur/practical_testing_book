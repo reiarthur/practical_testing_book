{
 "cells": [
  {
   "cell_type": "markdown",
   "metadata": {
    "colab_type": "text",
    "id": "iGD-t601TQs_"
   },
   "source": [
    "The following cell contains the code to simulate our application. It has a thread that sleeps for a random amount of time between 0 and 10 seconds and then sets the value of a property to 100."
   ]
  },
  {
   "cell_type": "code",
   "execution_count": null,
   "metadata": {
    "colab": {},
    "colab_type": "code",
    "id": "1Ot4_Grsl4Ff"
   },
   "outputs": [],
   "source": [
    "import random\n",
    "import time\n",
    "from threading import Thread\n",
    "\n",
    "class app(Thread):\n",
    "  def __init__ (self):\n",
    "    Thread.__init__(self)\n",
    "    self.res = 0\n",
    "\n",
    "  def setResult(self, result):\n",
    "    self.res = result\n",
    "\n",
    "  def getResult(self):\n",
    "    return self.res\n",
    "\n",
    "  def run(self):\n",
    "    sleep_length = random.random() * 10\n",
    "    time.sleep(sleep_length)\n",
    "    self.setResult(100)"
   ]
  },
  {
   "cell_type": "markdown",
   "metadata": {
    "colab_type": "text",
    "id": "jFRQpcleVrAj"
   },
   "source": [
    "To test the code, we're going to use `unittest`, a python unit testing framework. In our test we start a thread as defined above and wait 7 seconds to get the result from that thread. \n",
    "\n",
    "If the random sleep time from the thread is **greater than or equal** to 7 seconds, the value of `result` won't have been set to 100 when the `assertEqual` function runs and the test will fail. \n",
    "\n",
    "If the random value it's **less than** 7 seconds, the test will pass."
   ]
  },
  {
   "cell_type": "code",
   "execution_count": null,
   "metadata": {
    "colab": {},
    "colab_type": "code",
    "id": "KcHJ3m2bowUg"
   },
   "outputs": [],
   "source": [
    "import unittest\n",
    "import time\n",
    "\n",
    "class AppTestCase(unittest.TestCase):\n",
    "    def test_app_function(self):\n",
    "      app_test = app()\n",
    "      app_test.start()\n",
    "      time.sleep(7)\n",
    "      self.assertEqual(100, app_test.getResult())"
   ]
  },
  {
   "cell_type": "markdown",
   "metadata": {
    "colab_type": "text",
    "id": "AtTUcWoWWQXf"
   },
   "source": [
    "Given the flakiness in our test, the output of the tests should pass a few times and fail some other times. You should now run the following cells a number of times to see it for yourself the contraditory behavior of the test output. "
   ]
  },
  {
   "cell_type": "code",
   "execution_count": null,
   "metadata": {
    "colab": {
     "base_uri": "https://localhost:8080/",
     "height": 255
    },
    "colab_type": "code",
    "id": "edIDK3saqhw-",
    "outputId": "1f5c8344-535f-408d-d446-2ef965e6feed"
   },
   "outputs": [
    {
     "name": "stderr",
     "output_type": "stream",
     "text": [
      "F\n",
      "======================================================================\n",
      "FAIL: test_app_function (__main__.AppTestCase)\n",
      "----------------------------------------------------------------------\n",
      "Traceback (most recent call last):\n",
      "  File \"<ipython-input-51-25320b01c54c>\", line 9, in test_app_function\n",
      "    self.assertEqual(100, app_test.getResult())\n",
      "AssertionError: 100 != 0\n",
      "\n",
      "----------------------------------------------------------------------\n",
      "Ran 1 test in 7.006s\n",
      "\n",
      "FAILED (failures=1)\n"
     ]
    },
    {
     "data": {
      "text/plain": [
       "<unittest.runner.TextTestResult run=1 errors=0 failures=1>"
      ]
     },
     "execution_count": 56,
     "metadata": {
      "tags": []
     },
     "output_type": "execute_result"
    }
   ],
   "source": [
    "suite = unittest.TestLoader().loadTestsFromTestCase(AppTestCase)\n",
    "unittest.TextTestRunner().run(suite)"
   ]
  },
  {
   "cell_type": "code",
   "execution_count": null,
   "metadata": {
    "colab": {
     "base_uri": "https://localhost:8080/",
     "height": 119
    },
    "colab_type": "code",
    "id": "pDOmggQk1lnC",
    "outputId": "37a9d6db-44d8-4abb-f32b-2abe3ce718eb"
   },
   "outputs": [
    {
     "name": "stderr",
     "output_type": "stream",
     "text": [
      ".\n",
      "----------------------------------------------------------------------\n",
      "Ran 1 test in 7.009s\n",
      "\n",
      "OK\n"
     ]
    },
    {
     "data": {
      "text/plain": [
       "<unittest.runner.TextTestResult run=1 errors=0 failures=0>"
      ]
     },
     "execution_count": 57,
     "metadata": {
      "tags": []
     },
     "output_type": "execute_result"
    }
   ],
   "source": [
    "suite = unittest.TestLoader().loadTestsFromTestCase(AppTestCase)\n",
    "unittest.TextTestRunner().run(suite)"
   ]
  }
 ],
 "metadata": {
  "colab": {
   "collapsed_sections": [],
   "name": "Flaky Tests: Hands On",
   "provenance": []
  },
  "kernelspec": {
   "display_name": "Python 3",
   "language": "python",
   "name": "python3"
  },
  "language_info": {
   "codemirror_mode": {
    "name": "ipython",
    "version": 3
   },
   "file_extension": ".py",
   "mimetype": "text/x-python",
   "name": "python",
   "nbconvert_exporter": "python",
   "pygments_lexer": "ipython3",
   "version": "3.8.2"
  }
 },
 "nbformat": 4,
 "nbformat_minor": 1
}
