{
 "cells": [
  {
   "cell_type": "markdown",
   "metadata": {},
   "source": [
    "Build Systems\n",
    "================\n",
    "The purpose of a Build System is to automate the process of generating a software build. But what exactly is a build? In a simplified way, build is the process that involves compiling the source code of a computer program into binary files that are executed by the computer. At this stage, the build system also handles tasks such as managing project dependencies. After compilation, some projects also test the code using the test classes written by the developers to ensure that the code is ready and correct.\n",
    "\n",
    "The automation process of generating the build can include several different processes, as we mentioned: compiling source code into binary, packaging binary code, and running automated tests to detect errors. There is no universal tool that can be used across multiple technologies, some of which specialize in small parts of the process. Here we use one of those general tools, called Gradle.\n",
    "\n",
    "Gradle is an open source build automation tool, gradle stands out for its extremely versatility. Used by big tech companies, such as Netflix and Linkedin, it uses a Domains Specific Language (DSL) based on Groovy (there is limited support based on Kotlin as well). Gradle has a big list of features, some of these can help you improve your project build performance and dependency management."
   ]
  },
  {
   "cell_type": "code",
   "execution_count": 18,
   "metadata": {},
   "outputs": [
    {
     "data": {
      "image/jpeg": "[encoded data removed]",
      "text/html": [
       "\n",
       "        <iframe\n",
       "            width=\"720\"\n",
       "            height=\"480\"\n",
       "            src=\"https://www.youtube.com/embed/qi_0t1PrM3o\"\n",
       "            frameborder=\"0\"\n",
       "            allowfullscreen\n",
       "        ></iframe>\n",
       "        "
      ],
      "text/plain": [
       "<IPython.lib.display.YouTubeVideo at 0x1ef5d186790>"
      ]
     },
     "execution_count": 18,
     "metadata": {},
     "output_type": "execute_result"
    }
   ],
   "source": [
    "from IPython.display import YouTubeVideo\n",
    "YouTubeVideo('qi_0t1PrM3o', width=720, height=480)"
   ]
  },
  {
   "cell_type": "markdown",
   "metadata": {},
   "source": [
    "## Hands On\n",
    "> For this practice it's necessary to have Gradle installed on your computer. If you don't have, follow this [tutorial](https://gradle.org/install/) and install.\n",
    "\n",
    "Now it’s time to create your own project using Gradle as Builder following this tutorial:<a href=\"https://colab.research.google.com/github/damorimRG/practical_testing_book/blob/master/testregression/gradlesetup.ipynb\" target=\"_blank\"><img alt=\"Open In Colab\" src=\"https://colab.research.google.com/assets/colab-badge.svg\"></a>\n",
    "\n",
    "## The Build file\n",
    "> We have already made a project available for us to do the analysis. It is a simple design of a Binary Search algorithm in an array with some test cases. For this, you need to clone [this repository](https://github.com/damorimRG/practical_testing_book_demos) on your computer. This repository contains a lot of practical material used in this book. The section that we’ll use is under the [2-build-gradle/binarysearch](https://github.com/damorimRG/practical_testing_book_demos/tree/master/2-build-gradle/binarysearch) folder.\n",
    "\n",
    "When executing a build through the gradle, the tool will look for instructions on what should be done during it. Each phase, or order, performed is called a task and these tasks are described in the **`build.gradle`** file, which is located in the root folder of the repository.\n",
    "\n",
    "In the **`build.gradle`** file provided, you will find some code to perform a simple build of the project:\n",
    "\n",
    "```\n",
    "apply plugin: 'java'\n",
    "```\n",
    "\n",
    "This first line tells the build system what the project's compilation logic should be. As in the above process we specified that the project would be a Java application, the code looks like this.\n",
    "\n",
    "```\n",
    "repositories {\n",
    "   mavenCentral()\n",
    "}\n",
    "```\n",
    "\n",
    "This second line tells Gradle which repository the system should resolve dependencies on.\n",
    "\n",
    "```\n",
    "dependencies {\n",
    "   testImplementation 'junit:junit:4.1', 'org.hamcrest:hamcrest-all:1.3'\n",
    "}\n",
    "```\n",
    "Finally, this configuration tells the system some additional dependencies of the project, in this case we specify which test libraries are used for the correct compilation of the code.\n",
    "\n",
    "## The project’s code\n",
    "The project classes, as well as the test classes, are located, by default, below the **`src`** directory. The only class of this project is in the main directory and it is a simple Binarysearch algorithm in arrays.\n",
    "\n",
    "The only test class is found in the test directory. The code is written using the JUnit framework and tests some expected results from certain input cases.\n",
    "\n",
    "## Compiling the project\n",
    "Now that you know where the project is, we can move on to the build process. In the root folder, type in the terminal:\n",
    "```\n",
    "gradle build\n",
    "```\n",
    "After a few seconds, Gradle will have configured all the dependencies, compiled the project and applied the tests. The test results can be found in the HTML file found in the new **`build`** directory, which is now located in the root folder. Within this new directory are configuration files, temporary files, binaries used in the compilation and the test results (in the **`reports`** folder). The **`index.html`** file presents, in a very intuitive way, the test results for each package and class of the project. If any test fails, the file will show the entire stack of the failed test execution\n",
    "\n",
    "## Testing the Code\n",
    "To improve the display of tests in the terminal, you can also add one more task to your build file. The task code is as follows:\n",
    "\n",
    "```\n",
    "tasks.withType(Test) { \n",
    "  testLogging {\n",
    "    exceptionFormat \"full\"\n",
    "    events \"started\", \"skipped\", \"passed\", \"failed\"\n",
    "    showStandardStreams true\n",
    "  }\n",
    "}\n",
    "```\n",
    "\n",
    "To execute this new task, we will only run the tests on the project. Running **`gradle test`**, we obtain, in addition to the code compilation logs, the result of the tests execution.\n",
    "\n",
    "If you don't find that answer, the gradle may not have run the tests. This can happen because the tool exists precisely to avoid rework, so it analyzes the inputs and outputs of each task, if the inputs have not changed, it does not execute the task again, considering that it is up-to-date. If this is the case, just use the command **`gradle test --rerun-tasks`**, which forces the gradle to run the tasks again.\n",
    "\n",
    "Now we can see which tests were run and the results of each one. With a versatile tool such as Gradle you can write many different tasks that can help with your specific build automation, like the one above. To discover the most commonly used commands, access the [Gradle documentation](https://docs.gradle.org/current/userguide/command_line_interface.html).\n",
    "\n",
    "## Quiz\n",
    "Now that you have finished this section, we suggest to you take our quiz to confirm your knowledge. Good luck!"
   ]
  },
  {
   "cell_type": "markdown",
   "metadata": {},
   "source": [
    "<iframe \n",
    "\tsrc=\"https://docs.google.com/forms/d/1r5V2vy4kJMMZSw414u3vy2YXrLfWmxa0XzNFlnT1_N8/viewform?edit_requested=true\" \n",
    "\twidth=\"90%\" \n",
    "\theight=\"1200px\" \n",
    "\tframeborder=\"0\" \n",
    "\tmarginheight=\"0\" \n",
    "\tmarginwidth=\"0\">\n",
    "\tLoading...\n",
    "</iframe>"
   ]
  },
  {
   "cell_type": "markdown",
   "metadata": {},
   "source": [
    "## References\n",
    "\n",
    "1. [Gradle tutorial](https://gradle.org/install/)\n",
    "2. [Gradle documentation](https://docs.gradle.org/current/userguide/command_line_interface.html)\n",
    "3. [Introduction to Build Automation](https://www.youtube.com/watch?v=qi_0t1PrM3o)"
   ]
  }
 ],
 "metadata": {
  "kernelspec": {
   "display_name": "Python 3",
   "language": "python",
   "name": "python3"
  },
  "language_info": {
   "codemirror_mode": {
    "name": "ipython",
    "version": 3
   },
   "file_extension": ".py",
   "mimetype": "text/x-python",
   "name": "python",
   "nbconvert_exporter": "python",
   "pygments_lexer": "ipython3",
   "version": "3.8.3"
  }
 },
 "nbformat": 4,
 "nbformat_minor": 4
}
