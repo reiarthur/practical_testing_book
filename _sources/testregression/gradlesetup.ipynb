{
 "cells": [
  {
   "cell_type": "markdown",
   "metadata": {},
   "source": [
    "Gradle Project\n",
    "================\n",
    "\n",
    "First, we must install Gradle, for that run:"
   ]
  },
  {
   "cell_type": "code",
   "execution_count": null,
   "metadata": {},
   "outputs": [],
   "source": [
    "!apt-get install gradle"
   ]
  },
  {
   "cell_type": "markdown",
   "metadata": {},
   "source": [
    "Now you have to create a new directory on your computer where the project will be set up:"
   ]
  },
  {
   "cell_type": "code",
   "execution_count": null,
   "metadata": {},
   "outputs": [],
   "source": [
    "!mkdir gradle_demo"
   ]
  },
  {
   "cell_type": "code",
   "execution_count": null,
   "metadata": {},
   "outputs": [],
   "source": [
    "cd gradle_demo/"
   ]
  },
  {
   "cell_type": "markdown",
   "metadata": {},
   "source": [
    "Once in this directory, execute the following command:"
   ]
  },
  {
   "cell_type": "code",
   "execution_count": null,
   "metadata": {},
   "outputs": [],
   "source": [
    "!gradle init --type java-application"
   ]
  },
  {
   "cell_type": "markdown",
   "metadata": {},
   "source": [
    "Once this process is finished, your directory will now be filled with a file structure that must be respected during the development of your project, so that the gradle can act effectively. The name of the project and the source package of your project by default is the name of the root directory. This structure can be seen in the scheme below.\n",
    "\n",
    "```\n",
    ".\n",
    "├── build.gradle\n",
    "├── gradle\n",
    "│   └── wrapper\n",
    "│       ├── gradle-wrapper.jar\n",
    "│       └── gradle-wrapper.properties\n",
    "├── gradlew\n",
    "├── gradlew.bat\n",
    "├── settings.gradle\n",
    "└── src\n",
    "    ├── main\n",
    "    │   ├── java\n",
    "    │   │   └── gradle_demo\n",
    "    │   │       └── App.java\n",
    "    │   └── resources\n",
    "    └── test\n",
    "        ├── java\n",
    "        │   └── gradle_demo\n",
    "        │       └── AppTest.java\n",
    "        └── resources\n",
    "```\n",
    "\n",
    "We will highlight two elements created: the **`build.gradle`** file, where specifications of the build process are written that will be detailed later, and the **`src`** folder, which contains the project classes (main directory), and the test classes (in the test directory). Note that the gradle generated automatic java files to populate these directories. You can modify these files and add others according to the needs of your project.\n",
    "    "
   ]
  }
 ],
 "metadata": {
  "kernelspec": {
   "display_name": "Python 3",
   "language": "python",
   "name": "python3"
  },
  "language_info": {
   "codemirror_mode": {
    "name": "ipython",
    "version": 3
   },
   "file_extension": ".py",
   "mimetype": "text/x-python",
   "name": "python",
   "nbconvert_exporter": "python",
   "pygments_lexer": "ipython3",
   "version": "3.8.3"
  }
 },
 "nbformat": 4,
 "nbformat_minor": 4
}
